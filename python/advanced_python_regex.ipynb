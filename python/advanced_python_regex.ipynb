{
 "cells": [
  {
   "cell_type": "code",
   "execution_count": 1,
   "metadata": {
    "collapsed": false
   },
   "outputs": [
    {
     "data": {
      "text/html": [
       "<div>\n",
       "<table border=\"1\" class=\"dataframe\">\n",
       "  <thead>\n",
       "    <tr style=\"text-align: right;\">\n",
       "      <th></th>\n",
       "      <th>name</th>\n",
       "      <th>degree</th>\n",
       "      <th>title</th>\n",
       "      <th>email</th>\n",
       "    </tr>\n",
       "  </thead>\n",
       "  <tbody>\n",
       "    <tr>\n",
       "      <th>0</th>\n",
       "      <td>Scarlett L. Bellamy</td>\n",
       "      <td>Sc.D.</td>\n",
       "      <td>Associate Professor of Biostatistics</td>\n",
       "      <td>bellamys@mail.med.upenn.edu</td>\n",
       "    </tr>\n",
       "    <tr>\n",
       "      <th>1</th>\n",
       "      <td>Warren B. Bilker</td>\n",
       "      <td>Ph.D.</td>\n",
       "      <td>Professor of Biostatistics</td>\n",
       "      <td>warren@upenn.edu</td>\n",
       "    </tr>\n",
       "    <tr>\n",
       "      <th>2</th>\n",
       "      <td>Matthew W Bryan</td>\n",
       "      <td>PhD</td>\n",
       "      <td>Assistant Professor of Biostatistics</td>\n",
       "      <td>bryanma@upenn.edu</td>\n",
       "    </tr>\n",
       "    <tr>\n",
       "      <th>3</th>\n",
       "      <td>Jinbo Chen</td>\n",
       "      <td>Ph.D.</td>\n",
       "      <td>Associate Professor of Biostatistics</td>\n",
       "      <td>jinboche@upenn.edu</td>\n",
       "    </tr>\n",
       "    <tr>\n",
       "      <th>4</th>\n",
       "      <td>Susan S Ellenberg</td>\n",
       "      <td>Ph.D.</td>\n",
       "      <td>Professor of Biostatistics</td>\n",
       "      <td>sellenbe@upenn.edu</td>\n",
       "    </tr>\n",
       "  </tbody>\n",
       "</table>\n",
       "</div>"
      ],
      "text/plain": [
       "                  name  degree                                 title  \\\n",
       "0  Scarlett L. Bellamy   Sc.D.  Associate Professor of Biostatistics   \n",
       "1     Warren B. Bilker   Ph.D.            Professor of Biostatistics   \n",
       "2      Matthew W Bryan     PhD  Assistant Professor of Biostatistics   \n",
       "3           Jinbo Chen   Ph.D.  Associate Professor of Biostatistics   \n",
       "4    Susan S Ellenberg   Ph.D.            Professor of Biostatistics   \n",
       "\n",
       "                         email  \n",
       "0  bellamys@mail.med.upenn.edu  \n",
       "1             warren@upenn.edu  \n",
       "2            bryanma@upenn.edu  \n",
       "3           jinboche@upenn.edu  \n",
       "4           sellenbe@upenn.edu  "
      ]
     },
     "execution_count": 1,
     "metadata": {},
     "output_type": "execute_result"
    }
   ],
   "source": [
    "import pandas as pd\n",
    "\n",
    "# some headers have a space, eg u' degree', so manually create them\n",
    "data = pd.read_csv('faculty.csv', names=['name','degree','title','email'], header=0)\n",
    "data.head()"
   ]
  },
  {
   "cell_type": "code",
   "execution_count": 2,
   "metadata": {
    "collapsed": false
   },
   "outputs": [
    {
     "data": {
      "text/plain": [
       "count         37\n",
       "unique        11\n",
       "top        Ph.D.\n",
       "freq          15\n",
       "Name: degree, dtype: object"
      ]
     },
     "execution_count": 2,
     "metadata": {},
     "output_type": "execute_result"
    }
   ],
   "source": [
    "data.degree.describe()"
   ]
  },
  {
   "cell_type": "code",
   "execution_count": 3,
   "metadata": {
    "collapsed": false
   },
   "outputs": [
    {
     "data": {
      "text/plain": [
       "array([' Sc.D.', 'Ph.D.', ' PhD', ' Ph.D.', ' Ph.D', ' MD MPH Ph.D',\n",
       "       ' B.S.Ed. M.S. Ph.D.', ' JD MA MPH MS PhD', ' PhD ScD', '0', ' ScD'], dtype=object)"
      ]
     },
     "execution_count": 3,
     "metadata": {},
     "output_type": "execute_result"
    }
   ],
   "source": [
    "# messy!\n",
    "data.degree.unique()"
   ]
  },
  {
   "cell_type": "code",
   "execution_count": 4,
   "metadata": {
    "collapsed": false
   },
   "outputs": [
    {
     "data": {
      "text/plain": [
       "array(['ScD', 'PhD', 'MD MPH PhD', 'BSEd MS PhD', 'JD MA MPH MS PhD',\n",
       "       'PhD ScD', '0'], dtype=object)"
      ]
     },
     "execution_count": 4,
     "metadata": {},
     "output_type": "execute_result"
    }
   ],
   "source": [
    "# standardize degree text\n",
    "data.degree = data.degree.apply(lambda s: s.replace('.','').strip())\n",
    "data.degree.unique()"
   ]
  },
  {
   "cell_type": "code",
   "execution_count": 5,
   "metadata": {
    "collapsed": false
   },
   "outputs": [
    {
     "data": {
      "text/html": [
       "<div>\n",
       "<table border=\"1\" class=\"dataframe\">\n",
       "  <thead>\n",
       "    <tr style=\"text-align: right;\">\n",
       "      <th></th>\n",
       "      <th>name</th>\n",
       "      <th>degree</th>\n",
       "      <th>title</th>\n",
       "      <th>email</th>\n",
       "    </tr>\n",
       "  </thead>\n",
       "  <tbody>\n",
       "    <tr>\n",
       "      <th>0</th>\n",
       "      <td>Scarlett L. Bellamy</td>\n",
       "      <td>ScD</td>\n",
       "      <td>Associate Professor of Biostatistics</td>\n",
       "      <td>bellamys@mail.med.upenn.edu</td>\n",
       "    </tr>\n",
       "    <tr>\n",
       "      <th>1</th>\n",
       "      <td>Warren B. Bilker</td>\n",
       "      <td>PhD</td>\n",
       "      <td>Professor of Biostatistics</td>\n",
       "      <td>warren@upenn.edu</td>\n",
       "    </tr>\n",
       "    <tr>\n",
       "      <th>2</th>\n",
       "      <td>Matthew W Bryan</td>\n",
       "      <td>PhD</td>\n",
       "      <td>Assistant Professor of Biostatistics</td>\n",
       "      <td>bryanma@upenn.edu</td>\n",
       "    </tr>\n",
       "    <tr>\n",
       "      <th>3</th>\n",
       "      <td>Jinbo Chen</td>\n",
       "      <td>PhD</td>\n",
       "      <td>Associate Professor of Biostatistics</td>\n",
       "      <td>jinboche@upenn.edu</td>\n",
       "    </tr>\n",
       "    <tr>\n",
       "      <th>4</th>\n",
       "      <td>Susan S Ellenberg</td>\n",
       "      <td>PhD</td>\n",
       "      <td>Professor of Biostatistics</td>\n",
       "      <td>sellenbe@upenn.edu</td>\n",
       "    </tr>\n",
       "    <tr>\n",
       "      <th>5</th>\n",
       "      <td>Jonas H. Ellenberg</td>\n",
       "      <td>PhD</td>\n",
       "      <td>Professor of Biostatistics</td>\n",
       "      <td>jellenbe@mail.med.upenn.edu</td>\n",
       "    </tr>\n",
       "    <tr>\n",
       "      <th>6</th>\n",
       "      <td>Rui Feng</td>\n",
       "      <td>PhD</td>\n",
       "      <td>Assistant Professor of Biostatistics</td>\n",
       "      <td>ruifeng@upenn.edu</td>\n",
       "    </tr>\n",
       "    <tr>\n",
       "      <th>7</th>\n",
       "      <td>Benjamin C. French</td>\n",
       "      <td>PhD</td>\n",
       "      <td>Associate Professor of Biostatistics</td>\n",
       "      <td>bcfrench@mail.med.upenn.edu</td>\n",
       "    </tr>\n",
       "    <tr>\n",
       "      <th>8</th>\n",
       "      <td>Phyllis A. Gimotty</td>\n",
       "      <td>PhD</td>\n",
       "      <td>Professor of Biostatistics</td>\n",
       "      <td>pgimotty@upenn.edu</td>\n",
       "    </tr>\n",
       "    <tr>\n",
       "      <th>9</th>\n",
       "      <td>Wensheng Guo</td>\n",
       "      <td>PhD</td>\n",
       "      <td>Professor of Biostatistics</td>\n",
       "      <td>wguo@mail.med.upenn.edu</td>\n",
       "    </tr>\n",
       "    <tr>\n",
       "      <th>10</th>\n",
       "      <td>Yenchih Hsu</td>\n",
       "      <td>PhD</td>\n",
       "      <td>Assistant Professor of Biostatistics</td>\n",
       "      <td>hsu9@mail.med.upenn.edu</td>\n",
       "    </tr>\n",
       "    <tr>\n",
       "      <th>11</th>\n",
       "      <td>Rebecca A Hubbard</td>\n",
       "      <td>PhD</td>\n",
       "      <td>Associate Professor of Biostatistics</td>\n",
       "      <td>rhubb@mail.med.upenn.edu</td>\n",
       "    </tr>\n",
       "    <tr>\n",
       "      <th>12</th>\n",
       "      <td>Wei-Ting Hwang</td>\n",
       "      <td>PhD</td>\n",
       "      <td>Associate Professor of Biostatistics</td>\n",
       "      <td>whwang@mail.med.upenn.edu</td>\n",
       "    </tr>\n",
       "    <tr>\n",
       "      <th>13</th>\n",
       "      <td>Marshall M. Joffe</td>\n",
       "      <td>MD MPH PhD</td>\n",
       "      <td>Professor of Biostatistics</td>\n",
       "      <td>mjoffe@mail.med.upenn.edu</td>\n",
       "    </tr>\n",
       "    <tr>\n",
       "      <th>14</th>\n",
       "      <td>J. Richard Landis</td>\n",
       "      <td>BSEd MS PhD</td>\n",
       "      <td>Professor of Biostatistics</td>\n",
       "      <td>jrlandis@mail.med.upenn.edu</td>\n",
       "    </tr>\n",
       "    <tr>\n",
       "      <th>15</th>\n",
       "      <td>Yimei Li</td>\n",
       "      <td>PhD</td>\n",
       "      <td>Assistant Professor of Biostatistics</td>\n",
       "      <td>liy3@email.chop.edu</td>\n",
       "    </tr>\n",
       "    <tr>\n",
       "      <th>16</th>\n",
       "      <td>Mingyao Li</td>\n",
       "      <td>PhD</td>\n",
       "      <td>Associate Professor of Biostatistics</td>\n",
       "      <td>mingyao@mail.med.upenn.edu</td>\n",
       "    </tr>\n",
       "    <tr>\n",
       "      <th>17</th>\n",
       "      <td>Hongzhe Li</td>\n",
       "      <td>PhD</td>\n",
       "      <td>Professor of Biostatistics</td>\n",
       "      <td>hongzhe@upenn.edu</td>\n",
       "    </tr>\n",
       "    <tr>\n",
       "      <th>18</th>\n",
       "      <td>A. Russell Localio</td>\n",
       "      <td>JD MA MPH MS PhD</td>\n",
       "      <td>Associate Professor of Biostatistics</td>\n",
       "      <td>rlocalio@upenn.edu</td>\n",
       "    </tr>\n",
       "    <tr>\n",
       "      <th>19</th>\n",
       "      <td>Nandita Mitra</td>\n",
       "      <td>PhD</td>\n",
       "      <td>Associate Professor of Biostatistics</td>\n",
       "      <td>nanditam@mail.med.upenn.edu</td>\n",
       "    </tr>\n",
       "    <tr>\n",
       "      <th>20</th>\n",
       "      <td>Knashawn H. Morales</td>\n",
       "      <td>ScD</td>\n",
       "      <td>Associate Professor of Biostatistics</td>\n",
       "      <td>knashawn@mail.med.upenn.edu</td>\n",
       "    </tr>\n",
       "    <tr>\n",
       "      <th>21</th>\n",
       "      <td>Kathleen Joy Propert</td>\n",
       "      <td>ScD</td>\n",
       "      <td>Professor of Biostatistics</td>\n",
       "      <td>propert@mail.med.upenn.edu</td>\n",
       "    </tr>\n",
       "    <tr>\n",
       "      <th>22</th>\n",
       "      <td>Mary E. Putt</td>\n",
       "      <td>PhD ScD</td>\n",
       "      <td>Professor of Biostatistics</td>\n",
       "      <td>mputt@mail.med.upenn.edu</td>\n",
       "    </tr>\n",
       "    <tr>\n",
       "      <th>23</th>\n",
       "      <td>Sarah Jane Ratcliffe</td>\n",
       "      <td>PhD</td>\n",
       "      <td>Associate Professor of Biostatistics</td>\n",
       "      <td>sratclif@upenn.edu</td>\n",
       "    </tr>\n",
       "    <tr>\n",
       "      <th>24</th>\n",
       "      <td>Michelle Elana Ross</td>\n",
       "      <td>PhD</td>\n",
       "      <td>Assistant Professor is Biostatistics</td>\n",
       "      <td>michross@upenn.edu</td>\n",
       "    </tr>\n",
       "    <tr>\n",
       "      <th>25</th>\n",
       "      <td>Jason A. Roy</td>\n",
       "      <td>PhD</td>\n",
       "      <td>Associate Professor of Biostatistics</td>\n",
       "      <td>jaroy@mail.med.upenn.edu</td>\n",
       "    </tr>\n",
       "    <tr>\n",
       "      <th>26</th>\n",
       "      <td>Mary D. Sammel</td>\n",
       "      <td>ScD</td>\n",
       "      <td>Professor of Biostatistics</td>\n",
       "      <td>msammel@cceb.med.upenn.edu</td>\n",
       "    </tr>\n",
       "    <tr>\n",
       "      <th>27</th>\n",
       "      <td>Pamela Ann Shaw</td>\n",
       "      <td>PhD</td>\n",
       "      <td>Assistant Professor of Biostatistics</td>\n",
       "      <td>shawp@upenn.edu</td>\n",
       "    </tr>\n",
       "    <tr>\n",
       "      <th>28</th>\n",
       "      <td>Russell Takeshi Shinohara</td>\n",
       "      <td>0</td>\n",
       "      <td>Assistant Professor of Biostatistics</td>\n",
       "      <td>rshi@mail.med.upenn.edu</td>\n",
       "    </tr>\n",
       "    <tr>\n",
       "      <th>29</th>\n",
       "      <td>Haochang Shou</td>\n",
       "      <td>PhD</td>\n",
       "      <td>Assistant Professor of Biostatistics</td>\n",
       "      <td>hshou@mail.med.upenn.edu</td>\n",
       "    </tr>\n",
       "    <tr>\n",
       "      <th>30</th>\n",
       "      <td>Justine Shults</td>\n",
       "      <td>PhD</td>\n",
       "      <td>Professor of Biostatistics</td>\n",
       "      <td>jshults@mail.med.upenn.edu</td>\n",
       "    </tr>\n",
       "    <tr>\n",
       "      <th>31</th>\n",
       "      <td>Alisa Jane Stephens</td>\n",
       "      <td>PhD</td>\n",
       "      <td>Assistant Professor of Biostatistics</td>\n",
       "      <td>alisaste@mail.med.upenn.edu</td>\n",
       "    </tr>\n",
       "    <tr>\n",
       "      <th>32</th>\n",
       "      <td>Andrea Beth Troxel</td>\n",
       "      <td>ScD</td>\n",
       "      <td>Professor of Biostatistics</td>\n",
       "      <td>atroxel@mail.med.upenn.edu</td>\n",
       "    </tr>\n",
       "    <tr>\n",
       "      <th>33</th>\n",
       "      <td>Rui Xiao</td>\n",
       "      <td>PhD</td>\n",
       "      <td>Assistant Professor of Biostatistics</td>\n",
       "      <td>rxiao@mail.med.upenn.edu</td>\n",
       "    </tr>\n",
       "    <tr>\n",
       "      <th>34</th>\n",
       "      <td>Sharon Xiangwen Xie</td>\n",
       "      <td>PhD</td>\n",
       "      <td>Associate Professor of Biostatistics</td>\n",
       "      <td>sxie@mail.med.upenn.edu</td>\n",
       "    </tr>\n",
       "    <tr>\n",
       "      <th>35</th>\n",
       "      <td>Dawei Xie</td>\n",
       "      <td>PhD</td>\n",
       "      <td>Assistant Professor of Biostatistics</td>\n",
       "      <td>dxie@upenn.edu</td>\n",
       "    </tr>\n",
       "    <tr>\n",
       "      <th>36</th>\n",
       "      <td>Wei (Peter) Yang</td>\n",
       "      <td>PhD</td>\n",
       "      <td>Assistant Professor of Biostatistics</td>\n",
       "      <td>weiyang@mail.med.upenn.edu</td>\n",
       "    </tr>\n",
       "  </tbody>\n",
       "</table>\n",
       "</div>"
      ],
      "text/plain": [
       "                         name            degree  \\\n",
       "0         Scarlett L. Bellamy               ScD   \n",
       "1            Warren B. Bilker               PhD   \n",
       "2             Matthew W Bryan               PhD   \n",
       "3                  Jinbo Chen               PhD   \n",
       "4           Susan S Ellenberg               PhD   \n",
       "5          Jonas H. Ellenberg               PhD   \n",
       "6                    Rui Feng               PhD   \n",
       "7          Benjamin C. French               PhD   \n",
       "8          Phyllis A. Gimotty               PhD   \n",
       "9                Wensheng Guo               PhD   \n",
       "10                Yenchih Hsu               PhD   \n",
       "11          Rebecca A Hubbard               PhD   \n",
       "12             Wei-Ting Hwang               PhD   \n",
       "13          Marshall M. Joffe        MD MPH PhD   \n",
       "14          J. Richard Landis       BSEd MS PhD   \n",
       "15                   Yimei Li               PhD   \n",
       "16                 Mingyao Li               PhD   \n",
       "17                 Hongzhe Li               PhD   \n",
       "18         A. Russell Localio  JD MA MPH MS PhD   \n",
       "19              Nandita Mitra               PhD   \n",
       "20        Knashawn H. Morales               ScD   \n",
       "21       Kathleen Joy Propert               ScD   \n",
       "22               Mary E. Putt           PhD ScD   \n",
       "23       Sarah Jane Ratcliffe               PhD   \n",
       "24        Michelle Elana Ross               PhD   \n",
       "25               Jason A. Roy               PhD   \n",
       "26             Mary D. Sammel               ScD   \n",
       "27            Pamela Ann Shaw               PhD   \n",
       "28  Russell Takeshi Shinohara                 0   \n",
       "29              Haochang Shou               PhD   \n",
       "30             Justine Shults               PhD   \n",
       "31        Alisa Jane Stephens               PhD   \n",
       "32         Andrea Beth Troxel               ScD   \n",
       "33                   Rui Xiao               PhD   \n",
       "34        Sharon Xiangwen Xie               PhD   \n",
       "35                  Dawei Xie               PhD   \n",
       "36           Wei (Peter) Yang               PhD   \n",
       "\n",
       "                                   title                        email  \n",
       "0   Associate Professor of Biostatistics  bellamys@mail.med.upenn.edu  \n",
       "1             Professor of Biostatistics             warren@upenn.edu  \n",
       "2   Assistant Professor of Biostatistics            bryanma@upenn.edu  \n",
       "3   Associate Professor of Biostatistics           jinboche@upenn.edu  \n",
       "4             Professor of Biostatistics           sellenbe@upenn.edu  \n",
       "5             Professor of Biostatistics  jellenbe@mail.med.upenn.edu  \n",
       "6   Assistant Professor of Biostatistics            ruifeng@upenn.edu  \n",
       "7   Associate Professor of Biostatistics  bcfrench@mail.med.upenn.edu  \n",
       "8             Professor of Biostatistics           pgimotty@upenn.edu  \n",
       "9             Professor of Biostatistics      wguo@mail.med.upenn.edu  \n",
       "10  Assistant Professor of Biostatistics      hsu9@mail.med.upenn.edu  \n",
       "11  Associate Professor of Biostatistics     rhubb@mail.med.upenn.edu  \n",
       "12  Associate Professor of Biostatistics    whwang@mail.med.upenn.edu  \n",
       "13            Professor of Biostatistics    mjoffe@mail.med.upenn.edu  \n",
       "14            Professor of Biostatistics  jrlandis@mail.med.upenn.edu  \n",
       "15  Assistant Professor of Biostatistics          liy3@email.chop.edu  \n",
       "16  Associate Professor of Biostatistics   mingyao@mail.med.upenn.edu  \n",
       "17            Professor of Biostatistics            hongzhe@upenn.edu  \n",
       "18  Associate Professor of Biostatistics           rlocalio@upenn.edu  \n",
       "19  Associate Professor of Biostatistics  nanditam@mail.med.upenn.edu  \n",
       "20  Associate Professor of Biostatistics  knashawn@mail.med.upenn.edu  \n",
       "21            Professor of Biostatistics   propert@mail.med.upenn.edu  \n",
       "22            Professor of Biostatistics     mputt@mail.med.upenn.edu  \n",
       "23  Associate Professor of Biostatistics           sratclif@upenn.edu  \n",
       "24  Assistant Professor is Biostatistics           michross@upenn.edu  \n",
       "25  Associate Professor of Biostatistics     jaroy@mail.med.upenn.edu  \n",
       "26            Professor of Biostatistics   msammel@cceb.med.upenn.edu  \n",
       "27  Assistant Professor of Biostatistics              shawp@upenn.edu  \n",
       "28  Assistant Professor of Biostatistics      rshi@mail.med.upenn.edu  \n",
       "29  Assistant Professor of Biostatistics     hshou@mail.med.upenn.edu  \n",
       "30            Professor of Biostatistics   jshults@mail.med.upenn.edu  \n",
       "31  Assistant Professor of Biostatistics  alisaste@mail.med.upenn.edu  \n",
       "32            Professor of Biostatistics   atroxel@mail.med.upenn.edu  \n",
       "33  Assistant Professor of Biostatistics     rxiao@mail.med.upenn.edu  \n",
       "34  Associate Professor of Biostatistics      sxie@mail.med.upenn.edu  \n",
       "35  Assistant Professor of Biostatistics               dxie@upenn.edu  \n",
       "36  Assistant Professor of Biostatistics   weiyang@mail.med.upenn.edu  "
      ]
     },
     "execution_count": 5,
     "metadata": {},
     "output_type": "execute_result"
    }
   ],
   "source": [
    "data"
   ]
  },
  {
   "cell_type": "code",
   "execution_count": 6,
   "metadata": {
    "collapsed": false
   },
   "outputs": [
    {
     "data": {
      "text/plain": [
       "defaultdict(int,\n",
       "            {'0': 1,\n",
       "             'BSEd': 1,\n",
       "             'JD': 1,\n",
       "             'MA': 1,\n",
       "             'MD': 1,\n",
       "             'MPH': 2,\n",
       "             'MS': 2,\n",
       "             'PhD': 31,\n",
       "             'ScD': 6})"
      ]
     },
     "execution_count": 6,
     "metadata": {},
     "output_type": "execute_result"
    }
   ],
   "source": [
    "from collections import defaultdict\n",
    "unique_degrees = defaultdict(int)\n",
    "\n",
    "for deg_raw in data.degree:\n",
    "    for deg in deg_raw.split(' '):\n",
    "        unique_degrees[deg] += 1\n",
    "\n",
    "unique_degrees"
   ]
  },
  {
   "cell_type": "code",
   "execution_count": 7,
   "metadata": {
    "collapsed": false
   },
   "outputs": [
    {
     "data": {
      "text/html": [
       "<div>\n",
       "<table border=\"1\" class=\"dataframe\">\n",
       "  <thead>\n",
       "    <tr style=\"text-align: right;\">\n",
       "      <th></th>\n",
       "      <th>freq</th>\n",
       "    </tr>\n",
       "  </thead>\n",
       "  <tbody>\n",
       "    <tr>\n",
       "      <th>PhD</th>\n",
       "      <td>31</td>\n",
       "    </tr>\n",
       "    <tr>\n",
       "      <th>ScD</th>\n",
       "      <td>6</td>\n",
       "    </tr>\n",
       "    <tr>\n",
       "      <th>MPH</th>\n",
       "      <td>2</td>\n",
       "    </tr>\n",
       "    <tr>\n",
       "      <th>MS</th>\n",
       "      <td>2</td>\n",
       "    </tr>\n",
       "    <tr>\n",
       "      <th>MD</th>\n",
       "      <td>1</td>\n",
       "    </tr>\n",
       "    <tr>\n",
       "      <th>MA</th>\n",
       "      <td>1</td>\n",
       "    </tr>\n",
       "    <tr>\n",
       "      <th>BSEd</th>\n",
       "      <td>1</td>\n",
       "    </tr>\n",
       "    <tr>\n",
       "      <th>0</th>\n",
       "      <td>1</td>\n",
       "    </tr>\n",
       "    <tr>\n",
       "      <th>JD</th>\n",
       "      <td>1</td>\n",
       "    </tr>\n",
       "  </tbody>\n",
       "</table>\n",
       "</div>"
      ],
      "text/plain": [
       "      freq\n",
       "PhD     31\n",
       "ScD      6\n",
       "MPH      2\n",
       "MS       2\n",
       "MD       1\n",
       "MA       1\n",
       "BSEd     1\n",
       "0        1\n",
       "JD       1"
      ]
     },
     "execution_count": 7,
     "metadata": {},
     "output_type": "execute_result"
    }
   ],
   "source": [
    "degree_freqs = pd.DataFrame.from_dict(unique_degrees, orient='index')\n",
    "degree_freqs.columns = ['freq']\n",
    "degree_freqs = degree_freqs.sort_values('freq',ascending=False)\n",
    "degree_freqs"
   ]
  },
  {
   "cell_type": "code",
   "execution_count": 9,
   "metadata": {
    "collapsed": false
   },
   "outputs": [
    {
     "name": "stdout",
     "output_type": "stream",
     "text": [
      "there are 46 degrees total, for 37 people\n"
     ]
    }
   ],
   "source": [
    "print \"there are %i degrees total, for %i people\" % (degree_freqs.freq.sum(), len(data))"
   ]
  },
  {
   "cell_type": "code",
   "execution_count": 14,
   "metadata": {
    "collapsed": false
   },
   "outputs": [],
   "source": [
    "data.title = data.title.apply(lambda t: t.replace(' is ',' of '))"
   ]
  },
  {
   "cell_type": "code",
   "execution_count": 17,
   "metadata": {
    "collapsed": false
   },
   "outputs": [
    {
     "data": {
      "text/plain": [
       "Professor of Biostatistics              13\n",
       "Associate Professor of Biostatistics    12\n",
       "Assistant Professor of Biostatistics    12\n",
       "Name: title, dtype: int64"
      ]
     },
     "execution_count": 17,
     "metadata": {},
     "output_type": "execute_result"
    }
   ],
   "source": [
    "data.title.value_counts()"
   ]
  },
  {
   "cell_type": "code",
   "execution_count": 21,
   "metadata": {
    "collapsed": false
   },
   "outputs": [
    {
     "name": "stdout",
     "output_type": "stream",
     "text": [
      "bellamys@mail.med.upenn.edu\n",
      "warren@upenn.edu\n",
      "bryanma@upenn.edu\n",
      "jinboche@upenn.edu\n",
      "sellenbe@upenn.edu\n",
      "jellenbe@mail.med.upenn.edu\n",
      "ruifeng@upenn.edu\n",
      "bcfrench@mail.med.upenn.edu\n",
      "pgimotty@upenn.edu\n",
      "wguo@mail.med.upenn.edu\n",
      "hsu9@mail.med.upenn.edu\n",
      "rhubb@mail.med.upenn.edu\n",
      "whwang@mail.med.upenn.edu\n",
      "mjoffe@mail.med.upenn.edu\n",
      "jrlandis@mail.med.upenn.edu\n",
      "liy3@email.chop.edu\n",
      "mingyao@mail.med.upenn.edu\n",
      "hongzhe@upenn.edu\n",
      "rlocalio@upenn.edu\n",
      "nanditam@mail.med.upenn.edu\n",
      "knashawn@mail.med.upenn.edu\n",
      "propert@mail.med.upenn.edu\n",
      "mputt@mail.med.upenn.edu\n",
      "sratclif@upenn.edu\n",
      "michross@upenn.edu\n",
      "jaroy@mail.med.upenn.edu\n",
      "msammel@cceb.med.upenn.edu\n",
      "shawp@upenn.edu\n",
      "rshi@mail.med.upenn.edu\n",
      "hshou@mail.med.upenn.edu\n",
      "jshults@mail.med.upenn.edu\n",
      "alisaste@mail.med.upenn.edu\n",
      "atroxel@mail.med.upenn.edu\n",
      "rxiao@mail.med.upenn.edu\n",
      "sxie@mail.med.upenn.edu\n",
      "dxie@upenn.edu\n",
      "weiyang@mail.med.upenn.edu\n"
     ]
    }
   ],
   "source": [
    "for email in data.email.values:\n",
    "    print email"
   ]
  },
  {
   "cell_type": "code",
   "execution_count": 61,
   "metadata": {
    "collapsed": false
   },
   "outputs": [
    {
     "name": "stdout",
     "output_type": "stream",
     "text": [
      "* email.chop.edu\n",
      "* upenn.edu\n",
      "* cceb.med.upenn.edu\n",
      "* mail.med.upenn.edu\n"
     ]
    }
   ],
   "source": [
    "import re\n",
    "\n",
    "unique_email_domains = {re.findall(r'@(.+)',email)[0] for email in data.email.values}\n",
    "\n",
    "# markup formatted bulleted list\n",
    "for dom in unique_email_domains:\n",
    "    print '* ' + dom"
   ]
  },
  {
   "cell_type": "code",
   "execution_count": null,
   "metadata": {
    "collapsed": true
   },
   "outputs": [],
   "source": []
  }
 ],
 "metadata": {
  "kernelspec": {
   "display_name": "Python 2",
   "language": "python",
   "name": "python2"
  },
  "language_info": {
   "codemirror_mode": {
    "name": "ipython",
    "version": 2
   },
   "file_extension": ".py",
   "mimetype": "text/x-python",
   "name": "python",
   "nbconvert_exporter": "python",
   "pygments_lexer": "ipython2",
   "version": "2.7.11"
  }
 },
 "nbformat": 4,
 "nbformat_minor": 0
}
